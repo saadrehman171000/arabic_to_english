{
  "cells": [
    {
      "cell_type": "code",
      "execution_count": 5,
      "metadata": {
        "id": "PzQ5g15z2If2"
      },
      "outputs": [],
      "source": [
        "%%capture\n",
        "!pip install contractions  datasets\n",
        "\n",
        "import warnings\n",
        "warnings.filterwarnings(\"ignore\")"
      ]
    },
    {
      "cell_type": "code",
      "execution_count": 4,
      "metadata": {
        "colab": {
          "base_uri": "https://localhost:8080/"
        },
        "id": "LsmQRSvH2Ppy",
        "outputId": "94b1d62b-5481-4863-fe7a-d7c58e5d7270"
      },
      "outputs": [
        {
          "name": "stdout",
          "output_type": "stream",
          "text": [
            "Found existing installation: torch 2.2.1\n",
            "Uninstalling torch-2.2.1:\n",
            "  Successfully uninstalled torch-2.2.1\n",
            "Found existing installation: torchtext 0.17.2\n",
            "Uninstalling torchtext-0.17.2:\n",
            "  Successfully uninstalled torchtext-0.17.2\n",
            "Found existing installation: torchaudio 2.2.1\n",
            "Uninstalling torchaudio-2.2.1:\n",
            "  Successfully uninstalled torchaudio-2.2.1\n"
          ]
        },
        {
          "name": "stderr",
          "output_type": "stream",
          "text": [
            "WARNING: Failed to remove contents in a temporary directory 'C:\\Users\\shaiiikh\\AppData\\Roaming\\Python\\Python312\\site-packages\\~.rch'.\n",
            "You can safely remove it manually.\n",
            "WARNING: Failed to remove contents in a temporary directory 'C:\\Users\\shaiiikh\\AppData\\Roaming\\Python\\Python312\\site-packages\\~orchtext'.\n",
            "You can safely remove it manually.\n"
          ]
        },
        {
          "name": "stdout",
          "output_type": "stream",
          "text": [
            "Defaulting to user installation because normal site-packages is not writeable\n",
            "Looking in indexes: https://download.pytorch.org/whl/cu118\n",
            "Collecting torch\n",
            "  Using cached https://download.pytorch.org/whl/cu118/torch-2.6.0%2Bcu118-cp312-cp312-win_amd64.whl.metadata (28 kB)\n",
            "Collecting torchtext\n",
            "  Using cached https://download.pytorch.org/whl/torchtext-0.16.2%2Bcpu-cp312-cp312-win_amd64.whl (1.9 MB)\n",
            "Requirement already satisfied: torchvision in c:\\users\\shaiiikh\\appdata\\roaming\\python\\python312\\site-packages (0.17.1)\n",
            "Collecting torchaudio\n",
            "  Using cached https://download.pytorch.org/whl/cu118/torchaudio-2.6.0%2Bcu118-cp312-cp312-win_amd64.whl.metadata (6.8 kB)\n",
            "Requirement already satisfied: filelock in c:\\users\\shaiiikh\\appdata\\roaming\\python\\python312\\site-packages (from torch) (3.16.1)\n",
            "Requirement already satisfied: typing-extensions>=4.10.0 in c:\\programdata\\anaconda3\\lib\\site-packages (from torch) (4.11.0)\n",
            "Requirement already satisfied: networkx in c:\\users\\shaiiikh\\appdata\\roaming\\python\\python312\\site-packages (from torch) (3.4.2)\n",
            "Requirement already satisfied: jinja2 in c:\\users\\shaiiikh\\appdata\\roaming\\python\\python312\\site-packages (from torch) (3.1.4)\n",
            "Requirement already satisfied: fsspec in c:\\users\\shaiiikh\\appdata\\roaming\\python\\python312\\site-packages (from torch) (2024.9.0)\n",
            "Requirement already satisfied: setuptools in c:\\programdata\\anaconda3\\lib\\site-packages (from torch) (75.1.0)\n",
            "Requirement already satisfied: sympy==1.13.1 in c:\\users\\shaiiikh\\appdata\\roaming\\python\\python312\\site-packages (from torch) (1.13.1)\n",
            "Requirement already satisfied: mpmath<1.4,>=1.1.0 in c:\\programdata\\anaconda3\\lib\\site-packages (from sympy==1.13.1->torch) (1.3.0)\n",
            "Requirement already satisfied: tqdm in c:\\users\\shaiiikh\\appdata\\roaming\\python\\python312\\site-packages (from torchtext) (4.67.1)\n",
            "Requirement already satisfied: requests in c:\\programdata\\anaconda3\\lib\\site-packages (from torchtext) (2.32.3)\n",
            "Collecting torch\n",
            "  Using cached https://download.pytorch.org/whl/cu118/torch-2.2.0%2Bcu118-cp312-cp312-win_amd64.whl (2704.2 MB)\n",
            "Requirement already satisfied: numpy in c:\\programdata\\anaconda3\\lib\\site-packages (from torchtext) (1.26.4)\n",
            "Requirement already satisfied: torchdata==0.7.1 in c:\\users\\shaiiikh\\appdata\\roaming\\python\\python312\\site-packages (from torchtext) (0.7.1)\n",
            "Requirement already satisfied: urllib3>=1.25 in c:\\programdata\\anaconda3\\lib\\site-packages (from torchdata==0.7.1->torchtext) (2.2.3)\n",
            "INFO: pip is looking at multiple versions of torchvision to determine which version is compatible with other requirements. This could take a while.\n",
            "Collecting torchvision\n",
            "  Using cached https://download.pytorch.org/whl/cu118/torchvision-0.21.0%2Bcu118-cp312-cp312-win_amd64.whl.metadata (6.3 kB)\n",
            "  Using cached https://download.pytorch.org/whl/cu118/torchvision-0.20.1%2Bcu118-cp312-cp312-win_amd64.whl (5.3 MB)\n",
            "  Using cached https://download.pytorch.org/whl/cu118/torchvision-0.20.0%2Bcu118-cp312-cp312-win_amd64.whl (5.3 MB)\n",
            "  Using cached https://download.pytorch.org/whl/cu118/torchvision-0.19.1%2Bcu118-cp312-cp312-win_amd64.whl (5.0 MB)\n",
            "  Using cached https://download.pytorch.org/whl/cu118/torchvision-0.19.0%2Bcu118-cp312-cp312-win_amd64.whl (5.0 MB)\n",
            "  Using cached https://download.pytorch.org/whl/cu118/torchvision-0.18.1%2Bcu118-cp312-cp312-win_amd64.whl (4.9 MB)\n",
            "  Using cached https://download.pytorch.org/whl/cu118/torchvision-0.18.0%2Bcu118-cp312-cp312-win_amd64.whl (4.9 MB)\n",
            "INFO: pip is still looking at multiple versions of torchvision to determine which version is compatible with other requirements. This could take a while.\n",
            "  Using cached https://download.pytorch.org/whl/cu118/torchvision-0.17.2%2Bcu118-cp312-cp312-win_amd64.whl (4.9 MB)\n",
            "  Using cached https://download.pytorch.org/whl/cu118/torchvision-0.17.1%2Bcu118-cp312-cp312-win_amd64.whl (4.9 MB)\n",
            "  Using cached https://download.pytorch.org/whl/cu118/torchvision-0.17.0%2Bcu118-cp312-cp312-win_amd64.whl (4.9 MB)\n",
            "Requirement already satisfied: pillow!=8.3.*,>=5.3.0 in c:\\users\\shaiiikh\\appdata\\roaming\\python\\python312\\site-packages (from torchvision) (10.4.0)\n",
            "INFO: pip is looking at multiple versions of torchaudio to determine which version is compatible with other requirements. This could take a while.\n",
            "Collecting torchaudio\n",
            "  Using cached https://download.pytorch.org/whl/cu118/torchaudio-2.5.1%2Bcu118-cp312-cp312-win_amd64.whl (4.0 MB)\n",
            "  Using cached https://download.pytorch.org/whl/cu118/torchaudio-2.5.0%2Bcu118-cp312-cp312-win_amd64.whl (4.0 MB)\n",
            "  Using cached https://download.pytorch.org/whl/cu118/torchaudio-2.4.1%2Bcu118-cp312-cp312-win_amd64.whl (4.0 MB)\n",
            "  Using cached https://download.pytorch.org/whl/cu118/torchaudio-2.4.0%2Bcu118-cp312-cp312-win_amd64.whl (4.0 MB)\n",
            "  Using cached https://download.pytorch.org/whl/cu118/torchaudio-2.3.1%2Bcu118-cp312-cp312-win_amd64.whl (4.0 MB)\n",
            "  Using cached https://download.pytorch.org/whl/cu118/torchaudio-2.3.0%2Bcu118-cp312-cp312-win_amd64.whl (4.0 MB)\n",
            "  Using cached https://download.pytorch.org/whl/cu118/torchaudio-2.2.2%2Bcu118-cp312-cp312-win_amd64.whl (3.9 MB)\n",
            "INFO: pip is still looking at multiple versions of torchaudio to determine which version is compatible with other requirements. This could take a while.\n",
            "  Using cached https://download.pytorch.org/whl/cu118/torchaudio-2.2.1%2Bcu118-cp312-cp312-win_amd64.whl (3.9 MB)\n",
            "  Using cached https://download.pytorch.org/whl/cu118/torchaudio-2.2.0%2Bcu118-cp312-cp312-win_amd64.whl (3.9 MB)\n",
            "Requirement already satisfied: MarkupSafe>=2.0 in c:\\programdata\\anaconda3\\lib\\site-packages (from jinja2->torch) (2.1.3)\n",
            "Requirement already satisfied: charset-normalizer<4,>=2 in c:\\programdata\\anaconda3\\lib\\site-packages (from requests->torchtext) (3.3.2)\n",
            "Requirement already satisfied: idna<4,>=2.5 in c:\\programdata\\anaconda3\\lib\\site-packages (from requests->torchtext) (3.7)\n",
            "Requirement already satisfied: certifi>=2017.4.17 in c:\\programdata\\anaconda3\\lib\\site-packages (from requests->torchtext) (2025.1.31)\n",
            "Requirement already satisfied: colorama in c:\\users\\shaiiikh\\appdata\\roaming\\python\\python312\\site-packages (from tqdm->torchtext) (0.4.6)\n",
            "Installing collected packages: torch, torchvision, torchaudio, torchtext\n",
            "  Attempting uninstall: torchvision\n",
            "    Found existing installation: torchvision 0.17.1\n",
            "    Uninstalling torchvision-0.17.1:\n",
            "      Successfully uninstalled torchvision-0.17.1\n",
            "Successfully installed torch-2.2.0+cu118 torchaudio-2.2.0+cu118 torchtext-0.16.2+cpu torchvision-0.17.0+cu118\n"
          ]
        },
        {
          "name": "stderr",
          "output_type": "stream",
          "text": [
            "  WARNING: The scripts convert-caffe2-to-onnx.exe, convert-onnx-to-caffe2.exe and torchrun.exe are installed in 'C:\\Users\\shaiiikh\\AppData\\Roaming\\Python\\Python312\\Scripts' which is not on PATH.\n",
            "  Consider adding this directory to PATH or, if you prefer to suppress this warning, use --no-warn-script-location.\n"
          ]
        }
      ],
      "source": [
        "!pip uninstall -y torch torchtext torchaudio\n",
        "!pip install torch torchtext torchvision torchaudio --index-url https://download.pytorch.org/whl/cu118"
      ]
    },
    {
      "cell_type": "code",
      "execution_count": 6,
      "metadata": {
        "colab": {
          "base_uri": "https://localhost:8080/"
        },
        "id": "1xU_vlEC2If2",
        "outputId": "a7306f80-5281-4c50-a0fc-382cf76895c6"
      },
      "outputs": [
        {
          "name": "stdout",
          "output_type": "stream",
          "text": [
            "2.2.1+cpu\n",
            "False\n",
            "None\n"
          ]
        }
      ],
      "source": [
        "import torch\n",
        "print(torch.__version__)\n",
        "print(torch.cuda.is_available())\n",
        "print(torch.version.cuda)"
      ]
    },
    {
      "cell_type": "code",
      "execution_count": null,
      "metadata": {
        "id": "htpy2zWe2If2",
        "outputId": "a585b79b-43eb-48e0-f197-1536a23f9d43"
      },
      "outputs": [
        {
          "name": "stderr",
          "output_type": "stream",
          "text": [
            "WARNING: Skipping torch as it is not installed.\n"
          ]
        }
      ],
      "source": [
        "!pip uninstall torch -y"
      ]
    },
    {
      "cell_type": "code",
      "execution_count": null,
      "metadata": {
        "id": "2yKRDJHL2If2",
        "outputId": "28f1b8a4-b591-4c77-e747-ee89c05e08ac"
      },
      "outputs": [
        {
          "name": "stderr",
          "output_type": "stream",
          "text": [
            "ERROR: Could not find a version that satisfies the requirement torch==2.2.0+cu116 (from versions: 2.2.0, 2.2.1, 2.2.2, 2.3.0, 2.3.1, 2.4.0, 2.4.1, 2.5.0, 2.5.1, 2.6.0)\n",
            "ERROR: No matching distribution found for torch==2.2.0+cu116\n"
          ]
        }
      ],
      "source": [
        "!pip install torch==2.0.0+cu120"
      ]
    },
    {
      "cell_type": "code",
      "execution_count": 7,
      "metadata": {
        "colab": {
          "base_uri": "https://localhost:8080/"
        },
        "id": "fzIF8yra2If2",
        "outputId": "1416a041-7134-4eb4-e82a-73179f1a6c86"
      },
      "outputs": [
        {
          "name": "stdout",
          "output_type": "stream",
          "text": [
            "Defaulting to user installation because normal site-packages is not writeable\n",
            "Requirement already satisfied: pyarabic in c:\\users\\shaiiikh\\appdata\\roaming\\python\\python312\\site-packages (0.6.15)\n",
            "Requirement already satisfied: six>=1.14.0 in c:\\programdata\\anaconda3\\lib\\site-packages (from pyarabic) (1.16.0)\n"
          ]
        }
      ],
      "source": [
        "!pip install pyarabic"
      ]
    },
    {
      "cell_type": "code",
      "execution_count": 11,
      "metadata": {
        "_cell_guid": "b1076dfc-b9ad-4769-8c92-a6c4dae69d19",
        "_uuid": "8f2839f25d086af736a60e9eeb907d3b93b6e0e5",
        "id": "IOcIEd_82If3",
        "pycharm": {
          "name": "#%%\n"
        }
      },
      "outputs": [],
      "source": [
        "import os\n",
        "import math\n",
        "import random\n",
        "import re\n",
        "import time\n",
        "import unicodedata\n",
        "\n",
        "import nltk\n",
        "import numpy as np\n",
        "import pandas as pd\n",
        "\n",
        "import pyarabic.araby as araby\n",
        "import contractions\n",
        "import torch\n",
        "import torch.nn as nn\n",
        "import torch.optim as optim\n",
        "import torch.utils.data as data\n",
        "import torch.nn.functional as F\n",
        "from torch.utils.data import Dataset\n",
        "\n",
        "from torchtext.vocab import build_vocab_from_iterator\n",
        "\n",
        "from tqdm import tqdm\n",
        "tqdm.pandas()"
      ]
    },
    {
      "cell_type": "code",
      "execution_count": 12,
      "metadata": {
        "colab": {
          "base_uri": "https://localhost:8080/"
        },
        "id": "PiDlK0Zs2If3",
        "outputId": "b9b174ed-36ca-4ff1-cbc1-9296583803df",
        "pycharm": {
          "name": "#%%\n"
        }
      },
      "outputs": [
        {
          "name": "stdout",
          "output_type": "stream",
          "text": [
            "cpu\n"
          ]
        },
        {
          "ename": "AssertionError",
          "evalue": "Torch not compiled with CUDA enabled",
          "output_type": "error",
          "traceback": [
            "\u001b[1;31m---------------------------------------------------------------------------\u001b[0m",
            "\u001b[1;31mAssertionError\u001b[0m                            Traceback (most recent call last)",
            "Cell \u001b[1;32mIn[12], line 5\u001b[0m\n\u001b[0;32m      2\u001b[0m device \u001b[38;5;241m=\u001b[39m torch\u001b[38;5;241m.\u001b[39mdevice(\u001b[38;5;124m\"\u001b[39m\u001b[38;5;124mcuda\u001b[39m\u001b[38;5;124m\"\u001b[39m \u001b[38;5;28;01mif\u001b[39;00m torch\u001b[38;5;241m.\u001b[39mcuda\u001b[38;5;241m.\u001b[39mis_available() \u001b[38;5;28;01melse\u001b[39;00m \u001b[38;5;124m\"\u001b[39m\u001b[38;5;124mcpu\u001b[39m\u001b[38;5;124m\"\u001b[39m)\n\u001b[0;32m      4\u001b[0m \u001b[38;5;28mprint\u001b[39m(device)\n\u001b[1;32m----> 5\u001b[0m \u001b[38;5;28mprint\u001b[39m(torch\u001b[38;5;241m.\u001b[39mcuda\u001b[38;5;241m.\u001b[39mget_device_name(\u001b[38;5;241m0\u001b[39m))\n\u001b[0;32m      6\u001b[0m os\u001b[38;5;241m.\u001b[39menviron[\u001b[38;5;124m'\u001b[39m\u001b[38;5;124mPYTORCH_CUDA_ALLOC_CONF\u001b[39m\u001b[38;5;124m'\u001b[39m] \u001b[38;5;241m=\u001b[39m \u001b[38;5;124m'\u001b[39m\u001b[38;5;124mmax_split_size_mb=64\u001b[39m\u001b[38;5;124m'\u001b[39m\n",
            "File \u001b[1;32m~\\AppData\\Roaming\\Python\\Python312\\site-packages\\torch\\cuda\\__init__.py:423\u001b[0m, in \u001b[0;36mget_device_name\u001b[1;34m(device)\u001b[0m\n\u001b[0;32m    411\u001b[0m \u001b[38;5;28;01mdef\u001b[39;00m \u001b[38;5;21mget_device_name\u001b[39m(device: Optional[_device_t] \u001b[38;5;241m=\u001b[39m \u001b[38;5;28;01mNone\u001b[39;00m) \u001b[38;5;241m-\u001b[39m\u001b[38;5;241m>\u001b[39m \u001b[38;5;28mstr\u001b[39m:\n\u001b[0;32m    412\u001b[0m \u001b[38;5;250m    \u001b[39m\u001b[38;5;124mr\u001b[39m\u001b[38;5;124;03m\"\"\"Get the name of a device.\u001b[39;00m\n\u001b[0;32m    413\u001b[0m \n\u001b[0;32m    414\u001b[0m \u001b[38;5;124;03m    Args:\u001b[39;00m\n\u001b[1;32m   (...)\u001b[0m\n\u001b[0;32m    421\u001b[0m \u001b[38;5;124;03m        str: the name of the device\u001b[39;00m\n\u001b[0;32m    422\u001b[0m \u001b[38;5;124;03m    \"\"\"\u001b[39;00m\n\u001b[1;32m--> 423\u001b[0m     \u001b[38;5;28;01mreturn\u001b[39;00m get_device_properties(device)\u001b[38;5;241m.\u001b[39mname\n",
            "File \u001b[1;32m~\\AppData\\Roaming\\Python\\Python312\\site-packages\\torch\\cuda\\__init__.py:453\u001b[0m, in \u001b[0;36mget_device_properties\u001b[1;34m(device)\u001b[0m\n\u001b[0;32m    443\u001b[0m \u001b[38;5;28;01mdef\u001b[39;00m \u001b[38;5;21mget_device_properties\u001b[39m(device: _device_t) \u001b[38;5;241m-\u001b[39m\u001b[38;5;241m>\u001b[39m _CudaDeviceProperties:\n\u001b[0;32m    444\u001b[0m \u001b[38;5;250m    \u001b[39m\u001b[38;5;124mr\u001b[39m\u001b[38;5;124;03m\"\"\"Get the properties of a device.\u001b[39;00m\n\u001b[0;32m    445\u001b[0m \n\u001b[0;32m    446\u001b[0m \u001b[38;5;124;03m    Args:\u001b[39;00m\n\u001b[1;32m   (...)\u001b[0m\n\u001b[0;32m    451\u001b[0m \u001b[38;5;124;03m        _CudaDeviceProperties: the properties of the device\u001b[39;00m\n\u001b[0;32m    452\u001b[0m \u001b[38;5;124;03m    \"\"\"\u001b[39;00m\n\u001b[1;32m--> 453\u001b[0m     _lazy_init()  \u001b[38;5;66;03m# will define _get_device_properties\u001b[39;00m\n\u001b[0;32m    454\u001b[0m     device \u001b[38;5;241m=\u001b[39m _get_device_index(device, optional\u001b[38;5;241m=\u001b[39m\u001b[38;5;28;01mTrue\u001b[39;00m)\n\u001b[0;32m    455\u001b[0m     \u001b[38;5;28;01mif\u001b[39;00m device \u001b[38;5;241m<\u001b[39m \u001b[38;5;241m0\u001b[39m \u001b[38;5;129;01mor\u001b[39;00m device \u001b[38;5;241m>\u001b[39m\u001b[38;5;241m=\u001b[39m device_count():\n",
            "File \u001b[1;32m~\\AppData\\Roaming\\Python\\Python312\\site-packages\\torch\\cuda\\__init__.py:293\u001b[0m, in \u001b[0;36m_lazy_init\u001b[1;34m()\u001b[0m\n\u001b[0;32m    288\u001b[0m     \u001b[38;5;28;01mraise\u001b[39;00m \u001b[38;5;167;01mRuntimeError\u001b[39;00m(\n\u001b[0;32m    289\u001b[0m         \u001b[38;5;124m\"\u001b[39m\u001b[38;5;124mCannot re-initialize CUDA in forked subprocess. To use CUDA with \u001b[39m\u001b[38;5;124m\"\u001b[39m\n\u001b[0;32m    290\u001b[0m         \u001b[38;5;124m\"\u001b[39m\u001b[38;5;124mmultiprocessing, you must use the \u001b[39m\u001b[38;5;124m'\u001b[39m\u001b[38;5;124mspawn\u001b[39m\u001b[38;5;124m'\u001b[39m\u001b[38;5;124m start method\u001b[39m\u001b[38;5;124m\"\u001b[39m\n\u001b[0;32m    291\u001b[0m     )\n\u001b[0;32m    292\u001b[0m \u001b[38;5;28;01mif\u001b[39;00m \u001b[38;5;129;01mnot\u001b[39;00m \u001b[38;5;28mhasattr\u001b[39m(torch\u001b[38;5;241m.\u001b[39m_C, \u001b[38;5;124m\"\u001b[39m\u001b[38;5;124m_cuda_getDeviceCount\u001b[39m\u001b[38;5;124m\"\u001b[39m):\n\u001b[1;32m--> 293\u001b[0m     \u001b[38;5;28;01mraise\u001b[39;00m \u001b[38;5;167;01mAssertionError\u001b[39;00m(\u001b[38;5;124m\"\u001b[39m\u001b[38;5;124mTorch not compiled with CUDA enabled\u001b[39m\u001b[38;5;124m\"\u001b[39m)\n\u001b[0;32m    294\u001b[0m \u001b[38;5;28;01mif\u001b[39;00m _cudart \u001b[38;5;129;01mis\u001b[39;00m \u001b[38;5;28;01mNone\u001b[39;00m:\n\u001b[0;32m    295\u001b[0m     \u001b[38;5;28;01mraise\u001b[39;00m \u001b[38;5;167;01mAssertionError\u001b[39;00m(\n\u001b[0;32m    296\u001b[0m         \u001b[38;5;124m\"\u001b[39m\u001b[38;5;124mlibcudart functions unavailable. It looks like you have a broken build?\u001b[39m\u001b[38;5;124m\"\u001b[39m\n\u001b[0;32m    297\u001b[0m     )\n",
            "\u001b[1;31mAssertionError\u001b[0m: Torch not compiled with CUDA enabled"
          ]
        }
      ],
      "source": [
        "# %%script echo skipping\n",
        "device = torch.device(\"cuda\" if torch.cuda.is_available() else \"cpu\")\n",
        "\n",
        "print(device)\n",
        "print(torch.cuda.get_device_name(0))\n",
        "os.environ['PYTORCH_CUDA_ALLOC_CONF'] = 'max_split_size_mb=64'"
      ]
    },
    {
      "cell_type": "code",
      "execution_count": 13,
      "metadata": {
        "colab": {
          "base_uri": "https://localhost:8080/"
        },
        "execution": {
          "iopub.execute_input": "2023-10-22T16:59:33.685234Z",
          "iopub.status.busy": "2023-10-22T16:59:33.684977Z",
          "iopub.status.idle": "2023-10-22T16:59:33.774703Z",
          "shell.execute_reply": "2023-10-22T16:59:33.773737Z",
          "shell.execute_reply.started": "2023-10-22T16:59:33.685211Z"
        },
        "id": "23bWabjO2If3",
        "outputId": "a3c26aa0-cf44-424b-ca39-396595fcfc5b",
        "pycharm": {
          "name": "#%%\n"
        }
      },
      "outputs": [
        {
          "name": "stderr",
          "output_type": "stream",
          "text": [
            "[nltk_data] Downloading package punkt to\n",
            "[nltk_data]     C:\\Users\\shaiiikh\\AppData\\Roaming\\nltk_data...\n",
            "[nltk_data]   Package punkt is already up-to-date!\n"
          ]
        }
      ],
      "source": [
        "#https://stackoverflow.com/a/518232/2809427\n",
        "def unicodeToAscii(s):\n",
        "    return ''.join(\n",
        "        c for c in unicodedata.normalize('NFD', s)\n",
        "        if unicodedata.category(c) != 'Mn'\n",
        "    )\n",
        "\n",
        "nltk.download('punkt')\n",
        "def tokenize_ar(text):\n",
        "    return [tok for tok in nltk.tokenize.wordpunct_tokenize(unicodeToAscii(text))]\n",
        "\n",
        "def tokenize_en(text):\n",
        "    return [tok for tok in nltk.tokenize.wordpunct_tokenize(unicodeToAscii(text))]"
      ]
    },
    {
      "cell_type": "code",
      "execution_count": 15,
      "metadata": {
        "colab": {
          "base_uri": "https://localhost:8080/",
          "height": 106
        },
        "execution": {
          "iopub.execute_input": "2023-10-22T16:59:33.777479Z",
          "iopub.status.busy": "2023-10-22T16:59:33.777188Z",
          "iopub.status.idle": "2023-10-22T16:59:36.410391Z",
          "shell.execute_reply": "2023-10-22T16:59:36.409485Z",
          "shell.execute_reply.started": "2023-10-22T16:59:33.777454Z"
        },
        "id": "AaqbK5TV2If3",
        "outputId": "663f86b2-7fba-4bdc-d1c8-d5021c98f015"
      },
      "outputs": [
        {
          "data": {
            "application/vnd.jupyter.widget-view+json": {
              "model_id": "ae9e8daea7f0441da385a4e0a25a0cda",
              "version_major": 2,
              "version_minor": 0
            },
            "text/plain": [
              "tatoeba-test.ara-eng.tsv:   0%|          | 0.00/938k [00:00<?, ?B/s]"
            ]
          },
          "metadata": {},
          "output_type": "display_data"
        },
        {
          "data": {
            "application/vnd.jupyter.widget-view+json": {
              "model_id": "8b29f45cf2714844a3e830796732c234",
              "version_major": 2,
              "version_minor": 0
            },
            "text/plain": [
              "tatoeba-dev.ara-eng.tsv:   0%|          | 0.00/1.78M [00:00<?, ?B/s]"
            ]
          },
          "metadata": {},
          "output_type": "display_data"
        },
        {
          "data": {
            "application/vnd.jupyter.widget-view+json": {
              "model_id": "185c474275a146618f774321df1b6d56",
              "version_major": 2,
              "version_minor": 0
            },
            "text/plain": [
              "Generating test split:   0%|          | 0/10304 [00:00<?, ? examples/s]"
            ]
          },
          "metadata": {},
          "output_type": "display_data"
        },
        {
          "data": {
            "application/vnd.jupyter.widget-view+json": {
              "model_id": "a87903b099f4417d98ed0182f34d5f92",
              "version_major": 2,
              "version_minor": 0
            },
            "text/plain": [
              "Generating validation split:   0%|          | 0/19528 [00:00<?, ? examples/s]"
            ]
          },
          "metadata": {},
          "output_type": "display_data"
        }
      ],
      "source": [
        "from datasets import load_dataset\n",
        "\n",
        "# Add trust_remote_code=True to allow custom code execution\n",
        "dataset = load_dataset('Helsinki-NLP/tatoeba_mt', 'ara-eng', trust_remote_code=True)\n"
      ]
    },
    {
      "cell_type": "code",
      "execution_count": 16,
      "metadata": {
        "colab": {
          "base_uri": "https://localhost:8080/"
        },
        "execution": {
          "iopub.execute_input": "2023-10-22T16:59:36.412358Z",
          "iopub.status.busy": "2023-10-22T16:59:36.412009Z",
          "iopub.status.idle": "2023-10-22T16:59:36.419836Z",
          "shell.execute_reply": "2023-10-22T16:59:36.418843Z",
          "shell.execute_reply.started": "2023-10-22T16:59:36.412323Z"
        },
        "id": "_9mpmHZT2If3",
        "outputId": "9b67e596-ddfd-48c8-86ba-2c1316ca8cf0"
      },
      "outputs": [
        {
          "data": {
            "text/plain": [
              "DatasetDict({\n",
              "    test: Dataset({\n",
              "        features: ['sourceLang', 'targetlang', 'sourceString', 'targetString'],\n",
              "        num_rows: 10304\n",
              "    })\n",
              "    validation: Dataset({\n",
              "        features: ['sourceLang', 'targetlang', 'sourceString', 'targetString'],\n",
              "        num_rows: 19528\n",
              "    })\n",
              "})"
            ]
          },
          "execution_count": 16,
          "metadata": {},
          "output_type": "execute_result"
        }
      ],
      "source": [
        "dataset"
      ]
    },
    {
      "cell_type": "code",
      "execution_count": 17,
      "metadata": {
        "colab": {
          "base_uri": "https://localhost:8080/",
          "height": 206
        },
        "execution": {
          "iopub.execute_input": "2023-10-22T16:59:36.421514Z",
          "iopub.status.busy": "2023-10-22T16:59:36.421181Z",
          "iopub.status.idle": "2023-10-22T16:59:38.738914Z",
          "shell.execute_reply": "2023-10-22T16:59:38.737933Z",
          "shell.execute_reply.started": "2023-10-22T16:59:36.421483Z"
        },
        "id": "BddCsOne2If3",
        "outputId": "9cfbb220-39b3-4ad2-ddf6-a28a89b52f8f",
        "pycharm": {
          "name": "#%%\n"
        }
      },
      "outputs": [
        {
          "data": {
            "text/html": [
              "<div>\n",
              "<style scoped>\n",
              "    .dataframe tbody tr th:only-of-type {\n",
              "        vertical-align: middle;\n",
              "    }\n",
              "\n",
              "    .dataframe tbody tr th {\n",
              "        vertical-align: top;\n",
              "    }\n",
              "\n",
              "    .dataframe thead th {\n",
              "        text-align: right;\n",
              "    }\n",
              "</style>\n",
              "<table border=\"1\" class=\"dataframe\">\n",
              "  <thead>\n",
              "    <tr style=\"text-align: right;\">\n",
              "      <th></th>\n",
              "      <th>ar</th>\n",
              "      <th>en</th>\n",
              "    </tr>\n",
              "  </thead>\n",
              "  <tbody>\n",
              "    <tr>\n",
              "      <th>22781</th>\n",
              "      <td>لقد فعل ذلك مراراً وتكراراً.</td>\n",
              "      <td>He's done that again and again.</td>\n",
              "    </tr>\n",
              "    <tr>\n",
              "      <th>27053</th>\n",
              "      <td>وافق سامي.</td>\n",
              "      <td>Sami agreed.</td>\n",
              "    </tr>\n",
              "    <tr>\n",
              "      <th>14865</th>\n",
              "      <td>بإمكان جاك تحدث الفرنسية.</td>\n",
              "      <td>Jack can speak French.</td>\n",
              "    </tr>\n",
              "    <tr>\n",
              "      <th>4878</th>\n",
              "      <td>عليك أخذ استراحة.</td>\n",
              "      <td>You need to take a break.</td>\n",
              "    </tr>\n",
              "    <tr>\n",
              "      <th>4900</th>\n",
              "      <td>عليك أن تدرس جاهداً.</td>\n",
              "      <td>You must study hard.</td>\n",
              "    </tr>\n",
              "  </tbody>\n",
              "</table>\n",
              "</div>"
            ],
            "text/plain": [
              "                                 ar                               en\n",
              "22781  لقد فعل ذلك مراراً وتكراراً.  He's done that again and again.\n",
              "27053                    وافق سامي.                     Sami agreed.\n",
              "14865     بإمكان جاك تحدث الفرنسية.           Jack can speak French.\n",
              "4878              عليك أخذ استراحة.        You need to take a break.\n",
              "4900           عليك أن تدرس جاهداً.             You must study hard."
            ]
          },
          "execution_count": 17,
          "metadata": {},
          "output_type": "execute_result"
        }
      ],
      "source": [
        "df, val = dataset['test'], dataset['validation']\n",
        "df, val = pd.DataFrame(df), pd.DataFrame(val)\n",
        "df = pd.concat([df, val], ignore_index=True)\n",
        "df = df[df['sourceLang'] == 'ara']\n",
        "df = df.drop(columns=['sourceLang', 'targetlang'])\n",
        "df = df.rename(columns={'sourceString': 'ar', 'targetString': 'en'})\n",
        "df = df.reset_index(drop=True)\n",
        "\n",
        "df.sample(n=5)"
      ]
    },
    {
      "cell_type": "code",
      "execution_count": 18,
      "metadata": {
        "execution": {
          "iopub.execute_input": "2023-10-22T16:59:38.741011Z",
          "iopub.status.busy": "2023-10-22T16:59:38.740523Z",
          "iopub.status.idle": "2023-10-22T16:59:38.749113Z",
          "shell.execute_reply": "2023-10-22T16:59:38.748189Z",
          "shell.execute_reply.started": "2023-10-22T16:59:38.740975Z"
        },
        "id": "_Tzp9wCC2If3"
      },
      "outputs": [],
      "source": [
        "def preprocess_ar(text):\n",
        "    text = araby.strip_diacritics(text).strip() # Remove diacritics\n",
        "    text = re.sub(r'[a-zA-Z]', '', text) # Remove English letters\n",
        "    text = re.sub(r'\\s+', ' ', text).strip() # Trim multiple whitespaces to one\n",
        "    text = re.sub(r'[_|\\d+|\\\\|\\-|؛|،|,|\\[|\\]|\\(|\\)|\\\"|/|%|!|,|.|:|♪|«|»|}|{|*|#]+', '', text) # Remove special characters and digits\n",
        "    return text\n",
        "\n",
        "def preprocess_en(text):\n",
        "    text = text.lower()\n",
        "    text = contractions.fix(text) # Fix contractions\n",
        "    text = re.sub(r'[\\u0600-\\u06FF]', '', text) # Remove Arabic letters\n",
        "    text = re.sub(r'\\s+', ' ', text).strip() # Trim multiple whitespaces to one\n",
        "    text = re.sub(r'[_|\\d+|\\\\|\\-|؛|،|,|\\[|\\]|\\(|\\)|\\\"|/|%|!|,|.|:|♪|«|»|}|{|*|#]+', '', text) # Remove special characters and digits\n",
        "    return text"
      ]
    },
    {
      "cell_type": "code",
      "execution_count": 19,
      "metadata": {
        "colab": {
          "base_uri": "https://localhost:8080/"
        },
        "execution": {
          "iopub.execute_input": "2023-10-22T16:59:38.750423Z",
          "iopub.status.busy": "2023-10-22T16:59:38.750149Z",
          "iopub.status.idle": "2023-10-22T16:59:39.892242Z",
          "shell.execute_reply": "2023-10-22T16:59:39.891344Z",
          "shell.execute_reply.started": "2023-10-22T16:59:38.750398Z"
        },
        "id": "3vPtfUBs2If4",
        "outputId": "2b63b7dd-936b-4337-ac1d-3be049627222",
        "pycharm": {
          "name": "#%%\n"
        }
      },
      "outputs": [
        {
          "name": "stderr",
          "output_type": "stream",
          "text": [
            "100%|██████████| 27889/27889 [00:00<00:00, 56539.00it/s]\n",
            "100%|██████████| 27889/27889 [00:00<00:00, 64687.73it/s]\n"
          ]
        }
      ],
      "source": [
        "df['ar'] = df['ar'].progress_apply(preprocess_ar)\n",
        "df['en'] = df['en'].progress_apply(preprocess_en)\n",
        "\n",
        "df = df.dropna()\n",
        "df = df.replace('', pd.NA).dropna()\n",
        "df = df.replace(' ', pd.NA).dropna()\n",
        "df = df.reset_index(drop=True)"
      ]
    },
    {
      "cell_type": "code",
      "execution_count": 20,
      "metadata": {
        "colab": {
          "base_uri": "https://localhost:8080/"
        },
        "execution": {
          "iopub.execute_input": "2023-10-22T16:59:39.905245Z",
          "iopub.status.busy": "2023-10-22T16:59:39.904955Z",
          "iopub.status.idle": "2023-10-22T16:59:39.920694Z",
          "shell.execute_reply": "2023-10-22T16:59:39.919767Z",
          "shell.execute_reply.started": "2023-10-22T16:59:39.905218Z"
        },
        "id": "xf5PFzZI2If4",
        "outputId": "e1b8e6ef-3758-4082-f109-7c15f0363c5f",
        "pycharm": {
          "name": "#%%\n"
        }
      },
      "outputs": [
        {
          "name": "stdout",
          "output_type": "stream",
          "text": [
            "(25100, 2)\n",
            "(1394, 2)\n",
            "(1395, 2)\n"
          ]
        }
      ],
      "source": [
        "train, val, test = np.split(df.sample(frac=1, random_state=42),\n",
        "                                [int(.9*len(df)), int(.95*len(df))])\n",
        "\n",
        "del df\n",
        "print(train.shape, val.shape, test.shape, sep='\\n')"
      ]
    },
    {
      "cell_type": "code",
      "execution_count": 21,
      "metadata": {
        "execution": {
          "iopub.execute_input": "2023-10-22T16:59:39.922324Z",
          "iopub.status.busy": "2023-10-22T16:59:39.922044Z",
          "iopub.status.idle": "2023-10-22T16:59:40.940649Z",
          "shell.execute_reply": "2023-10-22T16:59:40.939383Z",
          "shell.execute_reply.started": "2023-10-22T16:59:39.922299Z"
        },
        "id": "eMkJZDwe2If4",
        "pycharm": {
          "name": "#%%\n"
        }
      },
      "outputs": [],
      "source": [
        "def yield_tokens(data_iter, src=True):\n",
        "    for text in data_iter:\n",
        "        if src:\n",
        "            yield tokenize_ar(text)\n",
        "        else:\n",
        "            yield tokenize_en(text)\n",
        "\n",
        "src_vocab = build_vocab_from_iterator(yield_tokens(iter(train['ar'])),\n",
        "                                      min_freq=2,\n",
        "                                      specials=[\"\"])\n",
        "src_vocab.set_default_index(src_vocab[\"\"])\n",
        "\n",
        "trg_vocab = build_vocab_from_iterator(yield_tokens(iter(train['en']),src=False),\n",
        "                                      min_freq=2,\n",
        "                                      specials=[\"\"])\n",
        "trg_vocab.set_default_index(trg_vocab[\"\"])"
      ]
    },
    {
      "cell_type": "code",
      "execution_count": 22,
      "metadata": {
        "colab": {
          "base_uri": "https://localhost:8080/"
        },
        "execution": {
          "iopub.execute_input": "2023-10-22T16:59:40.942458Z",
          "iopub.status.busy": "2023-10-22T16:59:40.942133Z",
          "iopub.status.idle": "2023-10-22T16:59:40.947741Z",
          "shell.execute_reply": "2023-10-22T16:59:40.946736Z",
          "shell.execute_reply.started": "2023-10-22T16:59:40.942428Z"
        },
        "id": "du_3mP9L2If4",
        "outputId": "ce38bde9-9bf4-4756-a011-2bc870629d1c",
        "pycharm": {
          "name": "#%%\n"
        }
      },
      "outputs": [
        {
          "name": "stdout",
          "output_type": "stream",
          "text": [
            "9224\n",
            "4860\n"
          ]
        }
      ],
      "source": [
        "print(len(src_vocab))\n",
        "print(len(trg_vocab))"
      ]
    },
    {
      "cell_type": "code",
      "execution_count": 23,
      "metadata": {
        "id": "QzHdODi43AYQ"
      },
      "outputs": [],
      "source": [
        "import pickle\n",
        "\n",
        "with open(\"src_vocab.pkl\", \"wb\") as f:\n",
        "    pickle.dump(src_vocab, f)\n",
        "\n",
        "with open(\"trg_vocab.pkl\", \"wb\") as f:\n",
        "    pickle.dump(trg_vocab, f)\n"
      ]
    },
    {
      "cell_type": "code",
      "execution_count": 24,
      "metadata": {
        "execution": {
          "iopub.execute_input": "2023-10-22T16:59:40.953168Z",
          "iopub.status.busy": "2023-10-22T16:59:40.952497Z",
          "iopub.status.idle": "2023-10-22T16:59:40.965307Z",
          "shell.execute_reply": "2023-10-22T16:59:40.964119Z",
          "shell.execute_reply.started": "2023-10-22T16:59:40.953129Z"
        },
        "id": "4JZ3LcDl2If4",
        "pycharm": {
          "name": "#%%\n"
        }
      },
      "outputs": [],
      "source": [
        "def preprocess(sequence, vocab, src=True):\n",
        "    if src:\n",
        "        tokens = tokenize_ar(sequence.lower())\n",
        "    else:\n",
        "        tokens = tokenize_en(sequence.lower())\n",
        "\n",
        "    sequence = []\n",
        "    sequence.append(vocab[''])\n",
        "    sequence.extend([vocab[token] for token in tokens])\n",
        "    sequence.append(vocab[''])\n",
        "    sequence = torch.Tensor(sequence)\n",
        "    return sequence\n",
        "\n",
        "def collate_fn(data):\n",
        "    def merge(sequences):\n",
        "        lengths = [len(seq) for seq in sequences]\n",
        "        padded_seqs = torch.zeros(len(sequences), max(lengths)).long()\n",
        "        for i, seq in enumerate(sequences):\n",
        "            end = lengths[i]\n",
        "            padded_seqs[i, :end] = seq[:end]\n",
        "        return padded_seqs, lengths\n",
        "\n",
        "    data.sort(key=lambda x: len(x[0]), reverse=True)\n",
        "    src_seqs, trg_seqs = zip(*data)\n",
        "    src_seqs, src_lengths = merge(src_seqs)\n",
        "    trg_seqs, trg_lengths = merge(trg_seqs)\n",
        "\n",
        "    return src_seqs, src_lengths, trg_seqs, trg_lengths\n",
        "\n",
        "class CustomDataset(Dataset):\n",
        "    def __init__(self, src, trg, src_vocab, trg_vocab):\n",
        "        self.src_seqs = src\n",
        "        self.trg_seqs = trg\n",
        "        self.num_total_seqs = len(self.src_seqs)\n",
        "        self.src_vocab= src_vocab\n",
        "        self.trg_vocab = trg_vocab\n",
        "\n",
        "    def __getitem__(self, index):\n",
        "        src_seq = self.src_seqs.iloc[index]\n",
        "        trg_seq = self.trg_seqs.iloc[index]\n",
        "        src_seq = preprocess(src_seq, self.src_vocab)\n",
        "        trg_seq = preprocess(trg_seq, self.trg_vocab, src=False)\n",
        "        return src_seq, trg_seq\n",
        "\n",
        "    def __len__(self):\n",
        "        return self.num_total_seqs"
      ]
    },
    {
      "cell_type": "code",
      "execution_count": 25,
      "metadata": {
        "execution": {
          "iopub.execute_input": "2023-10-22T16:59:40.966797Z",
          "iopub.status.busy": "2023-10-22T16:59:40.966491Z",
          "iopub.status.idle": "2023-10-22T16:59:40.978101Z",
          "shell.execute_reply": "2023-10-22T16:59:40.977117Z",
          "shell.execute_reply.started": "2023-10-22T16:59:40.966769Z"
        },
        "id": "FLjPzMLF2If4",
        "pycharm": {
          "name": "#%%\n"
        }
      },
      "outputs": [],
      "source": [
        "def get_loader(src, trg, src_vocab, trg_vocab, batch_size=64):\n",
        "    dataset = CustomDataset(src, trg, src_vocab, trg_vocab)\n",
        "    data_loader = torch.utils.data.DataLoader(dataset=dataset,\n",
        "                                              batch_size=batch_size,\n",
        "                                              shuffle=True,\n",
        "                                              collate_fn=collate_fn)\n",
        "\n",
        "    return data_loader"
      ]
    },
    {
      "cell_type": "code",
      "execution_count": 26,
      "metadata": {
        "execution": {
          "iopub.execute_input": "2023-10-22T16:59:40.979420Z",
          "iopub.status.busy": "2023-10-22T16:59:40.979112Z",
          "iopub.status.idle": "2023-10-22T16:59:40.988274Z",
          "shell.execute_reply": "2023-10-22T16:59:40.987492Z",
          "shell.execute_reply.started": "2023-10-22T16:59:40.979396Z"
        },
        "id": "XQQdB_o62If4",
        "pycharm": {
          "name": "#%%\n"
        }
      },
      "outputs": [],
      "source": [
        "train_loader = get_loader(train['ar'], train['en'], src_vocab, trg_vocab, batch_size=16)\n",
        "val_loader = get_loader(val['ar'], val['en'], src_vocab, trg_vocab, batch_size=16)\n",
        "test_loader = get_loader(test['ar'], test['en'], src_vocab, trg_vocab, batch_size=16)"
      ]
    },
    {
      "cell_type": "markdown",
      "metadata": {
        "id": "X6ABnqxi2If4",
        "pycharm": {
          "name": "#%% md\n"
        }
      },
      "source": [
        "### Encoder"
      ]
    },
    {
      "cell_type": "code",
      "execution_count": 27,
      "metadata": {
        "execution": {
          "iopub.execute_input": "2023-10-22T16:59:40.990019Z",
          "iopub.status.busy": "2023-10-22T16:59:40.989675Z",
          "iopub.status.idle": "2023-10-22T16:59:41.000629Z",
          "shell.execute_reply": "2023-10-22T16:59:40.999848Z",
          "shell.execute_reply.started": "2023-10-22T16:59:40.989988Z"
        },
        "id": "T_TRy4TQ2If4",
        "pycharm": {
          "name": "#%%\n"
        }
      },
      "outputs": [],
      "source": [
        "class Encoder(nn.Module):\n",
        "    def __init__(self, input_dim, emb_dim, enc_hid_dim, dec_hid_dim, dropout):\n",
        "        super().__init__()\n",
        "        self.embedding = nn.Embedding(input_dim, emb_dim)\n",
        "        self.rnn = nn.GRU(emb_dim, enc_hid_dim, bidirectional=True)\n",
        "        self.fc = nn.Linear(enc_hid_dim * 2, dec_hid_dim)\n",
        "        self.dropout = nn.Dropout(dropout)\n",
        "\n",
        "    def forward(self, src):\n",
        "        embedded = self.dropout(self.embedding(src))\n",
        "        outputs, hidden = self.rnn(embedded)\n",
        "        hidden = torch.tanh(self.fc(torch.cat((hidden[-2,:,:], hidden[-1,:,:]), dim = 1)))\n",
        "        return outputs, hidden"
      ]
    },
    {
      "cell_type": "markdown",
      "metadata": {
        "id": "woB8yJvb2If4",
        "pycharm": {
          "name": "#%% md\n"
        }
      },
      "source": [
        "### Attention"
      ]
    },
    {
      "cell_type": "code",
      "execution_count": 28,
      "metadata": {
        "execution": {
          "iopub.execute_input": "2023-10-22T16:59:41.001924Z",
          "iopub.status.busy": "2023-10-22T16:59:41.001664Z",
          "iopub.status.idle": "2023-10-22T16:59:41.010747Z",
          "shell.execute_reply": "2023-10-22T16:59:41.009937Z",
          "shell.execute_reply.started": "2023-10-22T16:59:41.001902Z"
        },
        "id": "iln4MOP82If5",
        "pycharm": {
          "name": "#%%\n"
        }
      },
      "outputs": [],
      "source": [
        "class Attention(nn.Module):\n",
        "    def __init__(self, enc_hid_dim, dec_hid_dim):\n",
        "        super().__init__()\n",
        "        self.attn = nn.Linear((enc_hid_dim * 2) + dec_hid_dim, dec_hid_dim)\n",
        "        self.v = nn.Linear(dec_hid_dim, 1, bias = False)\n",
        "\n",
        "    def forward(self, hidden, encoder_outputs):\n",
        "        batch_size = encoder_outputs.shape[1]\n",
        "        src_len = encoder_outputs.shape[0]\n",
        "        hidden = hidden.unsqueeze(1).repeat(1, src_len, 1)\n",
        "        encoder_outputs = encoder_outputs.permute(1, 0, 2)\n",
        "        energy = torch.tanh(self.attn(torch.cat((hidden, encoder_outputs), dim = 2)))\n",
        "        attention = self.v(energy).squeeze(2)\n",
        "        return F.softmax(attention, dim=1)"
      ]
    },
    {
      "cell_type": "markdown",
      "metadata": {
        "id": "ibpeSEkj2If5",
        "pycharm": {
          "name": "#%% md\n"
        }
      },
      "source": [
        "### Decoder"
      ]
    },
    {
      "cell_type": "code",
      "execution_count": 29,
      "metadata": {
        "execution": {
          "iopub.execute_input": "2023-10-22T16:59:41.012219Z",
          "iopub.status.busy": "2023-10-22T16:59:41.011880Z",
          "iopub.status.idle": "2023-10-22T16:59:41.022695Z",
          "shell.execute_reply": "2023-10-22T16:59:41.021772Z",
          "shell.execute_reply.started": "2023-10-22T16:59:41.012186Z"
        },
        "id": "9jlSBob-2If5",
        "pycharm": {
          "name": "#%%\n"
        }
      },
      "outputs": [],
      "source": [
        "class Decoder(nn.Module):\n",
        "    def __init__(self, output_dim, emb_dim, enc_hid_dim, dec_hid_dim, dropout, attention):\n",
        "        super().__init__()\n",
        "        self.output_dim = output_dim\n",
        "        self.attention = attention\n",
        "        self.embedding = nn.Embedding(output_dim, emb_dim)\n",
        "        self.rnn = nn.GRU((enc_hid_dim * 2) + emb_dim, dec_hid_dim)\n",
        "        self.fc_out = nn.Linear((enc_hid_dim * 2) + dec_hid_dim + emb_dim, output_dim)\n",
        "        self.dropout = nn.Dropout(dropout)\n",
        "\n",
        "    def forward(self, input, hidden, encoder_outputs):\n",
        "        input = input.unsqueeze(0)\n",
        "        embedded = self.dropout(self.embedding(input))\n",
        "        a = self.attention(hidden, encoder_outputs)\n",
        "        a = a.unsqueeze(1)\n",
        "        encoder_outputs = encoder_outputs.permute(1, 0, 2)\n",
        "        weighted = torch.bmm(a, encoder_outputs)\n",
        "        weighted = weighted.permute(1, 0, 2)\n",
        "\n",
        "        rnn_input = torch.cat((embedded, weighted), dim = 2)\n",
        "        output, hidden = self.rnn(rnn_input, hidden.unsqueeze(0))\n",
        "\n",
        "        assert (output == hidden).all()\n",
        "\n",
        "        embedded = embedded.squeeze(0)\n",
        "        output = output.squeeze(0)\n",
        "        weighted = weighted.squeeze(0)\n",
        "\n",
        "        prediction = self.fc_out(torch.cat((output, weighted, embedded), dim = 1))\n",
        "        return prediction, hidden.squeeze(0)"
      ]
    },
    {
      "cell_type": "code",
      "execution_count": 30,
      "metadata": {
        "execution": {
          "iopub.execute_input": "2023-10-22T16:59:41.024901Z",
          "iopub.status.busy": "2023-10-22T16:59:41.023969Z",
          "iopub.status.idle": "2023-10-22T16:59:41.035645Z",
          "shell.execute_reply": "2023-10-22T16:59:41.034868Z",
          "shell.execute_reply.started": "2023-10-22T16:59:41.024874Z"
        },
        "id": "0RL47QFL2If5",
        "pycharm": {
          "name": "#%%\n"
        }
      },
      "outputs": [],
      "source": [
        "class Seq2Seq(nn.Module):\n",
        "    def __init__(self, encoder, decoder, device):\n",
        "        super().__init__()\n",
        "        self.encoder = encoder\n",
        "        self.decoder = decoder\n",
        "        self.device = device\n",
        "\n",
        "    def forward(self, src, trg, teacher_forcing_ratio = 0.5):\n",
        "        batch_size = trg.shape[1]\n",
        "        trg_len = trg.shape[0]\n",
        "        trg_vocab_size = self.decoder.output_dim\n",
        "        outputs = torch.zeros(trg_len, batch_size, trg_vocab_size).to(self.device)\n",
        "        encoder_outputs, hidden = self.encoder(src)\n",
        "\n",
        "        input = trg[0,:]\n",
        "        for t in range(1, trg_len):\n",
        "            output, hidden = self.decoder(input, hidden, encoder_outputs)\n",
        "            outputs[t] = output\n",
        "            teacher_force = random.random() < teacher_forcing_ratio\n",
        "            top1 = output.argmax(1)\n",
        "            input = trg[t] if teacher_force else top1\n",
        "\n",
        "        return outputs"
      ]
    },
    {
      "cell_type": "code",
      "execution_count": 31,
      "metadata": {
        "id": "r1SvGiEg3IlT"
      },
      "outputs": [],
      "source": [
        "import pickle\n",
        "\n",
        "with open(\"src_vocab.pkl\", \"wb\") as f:\n",
        "    pickle.dump(src_vocab, f)\n",
        "\n",
        "with open(\"trg_vocab.pkl\", \"wb\") as f:\n",
        "    pickle.dump(trg_vocab, f)\n"
      ]
    },
    {
      "cell_type": "code",
      "execution_count": 32,
      "metadata": {
        "execution": {
          "iopub.execute_input": "2023-10-22T16:59:41.036955Z",
          "iopub.status.busy": "2023-10-22T16:59:41.036678Z",
          "iopub.status.idle": "2023-10-22T16:59:43.153908Z",
          "shell.execute_reply": "2023-10-22T16:59:43.152874Z",
          "shell.execute_reply.started": "2023-10-22T16:59:41.036932Z"
        },
        "id": "FskjeAmp2If5",
        "pycharm": {
          "name": "#%%\n"
        }
      },
      "outputs": [],
      "source": [
        "INPUT_DIM = len(src_vocab)\n",
        "OUTPUT_DIM = len(trg_vocab)\n",
        "EMB_DIM = 512\n",
        "HID_DIM = 1024\n",
        "DROPOUT = 0.3\n",
        "\n",
        "attn = Attention(HID_DIM, HID_DIM)\n",
        "enc = Encoder(INPUT_DIM, EMB_DIM, HID_DIM, HID_DIM, DROPOUT).to(device)\n",
        "dec = Decoder(OUTPUT_DIM, EMB_DIM, HID_DIM, HID_DIM, DROPOUT, attn).to(device)\n",
        "\n",
        "model = Seq2Seq(enc, dec, device).to(device)"
      ]
    },
    {
      "cell_type": "code",
      "execution_count": 33,
      "metadata": {
        "colab": {
          "base_uri": "https://localhost:8080/"
        },
        "execution": {
          "iopub.execute_input": "2023-10-22T16:59:43.155375Z",
          "iopub.status.busy": "2023-10-22T16:59:43.155111Z",
          "iopub.status.idle": "2023-10-22T16:59:43.164760Z",
          "shell.execute_reply": "2023-10-22T16:59:43.163796Z",
          "shell.execute_reply.started": "2023-10-22T16:59:43.155352Z"
        },
        "id": "0q0CWRAn2If6",
        "outputId": "a1afecbf-d44c-41e0-cc8e-55dc1c353f07",
        "pycharm": {
          "name": "#%%\n"
        }
      },
      "outputs": [
        {
          "data": {
            "text/plain": [
              "Seq2Seq(\n",
              "  (encoder): Encoder(\n",
              "    (embedding): Embedding(9224, 512)\n",
              "    (rnn): GRU(512, 1024, bidirectional=True)\n",
              "    (fc): Linear(in_features=2048, out_features=1024, bias=True)\n",
              "    (dropout): Dropout(p=0.3, inplace=False)\n",
              "  )\n",
              "  (decoder): Decoder(\n",
              "    (attention): Attention(\n",
              "      (attn): Linear(in_features=3072, out_features=1024, bias=True)\n",
              "      (v): Linear(in_features=1024, out_features=1, bias=False)\n",
              "    )\n",
              "    (embedding): Embedding(4860, 512)\n",
              "    (rnn): GRU(2560, 1024)\n",
              "    (fc_out): Linear(in_features=3584, out_features=4860, bias=True)\n",
              "    (dropout): Dropout(p=0.3, inplace=False)\n",
              "  )\n",
              ")"
            ]
          },
          "execution_count": 33,
          "metadata": {},
          "output_type": "execute_result"
        }
      ],
      "source": [
        "def init_weights(m):\n",
        "    for name, param in m.named_parameters():\n",
        "        if 'weight' in name:\n",
        "             nn.init.xavier_normal_(param.data)\n",
        "        else:\n",
        "            nn.init.constant_(param.data, 0)\n",
        "\n",
        "model.apply(init_weights)"
      ]
    },
    {
      "cell_type": "code",
      "execution_count": 34,
      "metadata": {
        "colab": {
          "base_uri": "https://localhost:8080/"
        },
        "execution": {
          "iopub.execute_input": "2023-10-22T16:59:43.166209Z",
          "iopub.status.busy": "2023-10-22T16:59:43.165863Z",
          "iopub.status.idle": "2023-10-22T16:59:43.172103Z",
          "shell.execute_reply": "2023-10-22T16:59:43.171170Z",
          "shell.execute_reply.started": "2023-10-22T16:59:43.166174Z"
        },
        "id": "RGODXSkL2If6",
        "outputId": "f6a90ec9-df49-4887-e93b-7469de01cae6",
        "pycharm": {
          "name": "#%%\n"
        }
      },
      "outputs": [
        {
          "name": "stdout",
          "output_type": "stream",
          "text": [
            "The model has 50,345,724 trainable parameters\n"
          ]
        }
      ],
      "source": [
        "def count_parameters(model):\n",
        "    return sum(p.numel() for p in model.parameters() if p.requires_grad)\n",
        "\n",
        "print(f'The model has {count_parameters(model):,} trainable parameters')"
      ]
    },
    {
      "cell_type": "markdown",
      "metadata": {
        "id": "QgTYC6mf2If6",
        "pycharm": {
          "name": "#%% md\n"
        }
      },
      "source": [
        "## Model Training"
      ]
    },
    {
      "cell_type": "code",
      "execution_count": null,
      "metadata": {
        "execution": {
          "iopub.execute_input": "2023-10-22T16:59:43.173543Z",
          "iopub.status.busy": "2023-10-22T16:59:43.173287Z",
          "iopub.status.idle": "2023-10-22T16:59:43.182856Z",
          "shell.execute_reply": "2023-10-22T16:59:43.181774Z",
          "shell.execute_reply.started": "2023-10-22T16:59:43.173520Z"
        },
        "id": "nr-WhMt32If6",
        "pycharm": {
          "name": "#%%\n"
        }
      },
      "outputs": [],
      "source": [
        "optimizer = optim.AdamW(model.parameters(), lr=1e-3)\n",
        "criterion = nn.CrossEntropyLoss(ignore_index = trg_vocab['']).to(device)"
      ]
    },
    {
      "cell_type": "code",
      "execution_count": null,
      "metadata": {
        "execution": {
          "iopub.execute_input": "2023-10-22T16:59:43.184264Z",
          "iopub.status.busy": "2023-10-22T16:59:43.183967Z",
          "iopub.status.idle": "2023-10-22T16:59:43.192652Z",
          "shell.execute_reply": "2023-10-22T16:59:43.191689Z",
          "shell.execute_reply.started": "2023-10-22T16:59:43.184233Z"
        },
        "id": "orY5NHzp2IgA",
        "pycharm": {
          "name": "#%%\n"
        }
      },
      "outputs": [],
      "source": [
        "def train(model, iterator, optimizer, criterion, clip):\n",
        "    model.train()\n",
        "    epoch_loss = 0\n",
        "    for i, batch in tqdm(enumerate(iterator), total=len(iterator), desc=\"Train\"):\n",
        "        src = torch.transpose(batch[0], 0,1).to(device)\n",
        "        trg = torch.transpose(batch[2], 0,1).to(device)\n",
        "        optimizer.zero_grad()\n",
        "        output = model(src, trg)\n",
        "        output_dim = output.shape[-1]\n",
        "        output = output[1:].view(-1, output_dim)\n",
        "        trg = trg[1:].reshape(-1)\n",
        "        loss = criterion(output, trg)\n",
        "        loss.backward()\n",
        "        torch.nn.utils.clip_grad_norm_(model.parameters(), clip)\n",
        "        optimizer.step()\n",
        "        epoch_loss += loss.item()\n",
        "    return epoch_loss / len(iterator)"
      ]
    },
    {
      "cell_type": "code",
      "execution_count": null,
      "metadata": {
        "execution": {
          "iopub.execute_input": "2023-10-22T16:59:43.194165Z",
          "iopub.status.busy": "2023-10-22T16:59:43.193874Z",
          "iopub.status.idle": "2023-10-22T16:59:43.205900Z",
          "shell.execute_reply": "2023-10-22T16:59:43.205027Z",
          "shell.execute_reply.started": "2023-10-22T16:59:43.194117Z"
        },
        "id": "Or9Gp2s_2IgA",
        "pycharm": {
          "name": "#%%\n"
        }
      },
      "outputs": [],
      "source": [
        "def evaluate(model, iterator, criterion):\n",
        "    model.eval()\n",
        "    epoch_loss = 0\n",
        "    with torch.no_grad():\n",
        "        for i, batch in tqdm(enumerate(iterator), total=len(iterator), desc=\"Evaluate\"):\n",
        "            src = torch.transpose(batch[0], 0, 1).to(device)\n",
        "            trg = torch.transpose(batch[2], 0, 1).to(device)\n",
        "            output = model(src, trg, 0)\n",
        "            output_dim = output.shape[-1]\n",
        "            output = output[1:].view(-1, output_dim)\n",
        "            trg = trg[1:].reshape(-1)\n",
        "            loss = criterion(output, trg)\n",
        "            epoch_loss += loss.item()\n",
        "    return epoch_loss / len(iterator)"
      ]
    },
    {
      "cell_type": "code",
      "execution_count": null,
      "metadata": {
        "colab": {
          "base_uri": "https://localhost:8080/"
        },
        "execution": {
          "iopub.execute_input": "2023-10-22T16:59:43.207354Z",
          "iopub.status.busy": "2023-10-22T16:59:43.207039Z",
          "iopub.status.idle": "2023-10-22T17:07:12.783509Z",
          "shell.execute_reply": "2023-10-22T17:07:12.782559Z",
          "shell.execute_reply.started": "2023-10-22T16:59:43.207328Z"
        },
        "id": "C1duLuYz2IgA",
        "outputId": "fde9755b-4f7f-4938-800b-fc22ea6c0846",
        "pycharm": {
          "name": "#%%\n"
        }
      },
      "outputs": [
        {
          "name": "stdout",
          "output_type": "stream",
          "text": [
            "Epoch: 01\n"
          ]
        },
        {
          "name": "stderr",
          "output_type": "stream",
          "text": [
            "Train: 100%|██████████| 1569/1569 [03:26<00:00,  7.61it/s]\n",
            "Evaluate: 100%|██████████| 88/88 [00:03<00:00, 27.97it/s]\n"
          ]
        },
        {
          "name": "stdout",
          "output_type": "stream",
          "text": [
            "\tTrain Loss: 4.716 | Train PPL: 111.723 \t\tVal. Loss: 3.990 |  Val. PPL: 54.040\n",
            "Epoch: 02\n"
          ]
        },
        {
          "name": "stderr",
          "output_type": "stream",
          "text": [
            "Train: 100%|██████████| 1569/1569 [03:26<00:00,  7.60it/s]\n",
            "Evaluate: 100%|██████████| 88/88 [00:03<00:00, 27.41it/s]\n"
          ]
        },
        {
          "name": "stdout",
          "output_type": "stream",
          "text": [
            "\tTrain Loss: 3.069 | Train PPL: 21.518 \t\tVal. Loss: 3.561 |  Val. PPL: 35.200\n",
            "Epoch: 03\n"
          ]
        },
        {
          "name": "stderr",
          "output_type": "stream",
          "text": [
            "Train: 100%|██████████| 1569/1569 [03:27<00:00,  7.57it/s]\n",
            "Evaluate: 100%|██████████| 88/88 [00:03<00:00, 26.66it/s]\n"
          ]
        },
        {
          "name": "stdout",
          "output_type": "stream",
          "text": [
            "\tTrain Loss: 2.244 | Train PPL: 9.428 \t\tVal. Loss: 3.507 |  Val. PPL: 33.340\n",
            "Epoch: 04\n"
          ]
        },
        {
          "name": "stderr",
          "output_type": "stream",
          "text": [
            "Train: 100%|██████████| 1569/1569 [03:26<00:00,  7.60it/s]\n",
            "Evaluate: 100%|██████████| 88/88 [00:03<00:00, 27.34it/s]\n"
          ]
        },
        {
          "name": "stdout",
          "output_type": "stream",
          "text": [
            "\tTrain Loss: 1.751 | Train PPL: 5.759 \t\tVal. Loss: 3.622 |  Val. PPL: 37.417\n",
            "Epoch: 05\n"
          ]
        },
        {
          "name": "stderr",
          "output_type": "stream",
          "text": [
            "Train: 100%|██████████| 1569/1569 [03:29<00:00,  7.50it/s]\n",
            "Evaluate: 100%|██████████| 88/88 [00:03<00:00, 26.76it/s]\n"
          ]
        },
        {
          "name": "stdout",
          "output_type": "stream",
          "text": [
            "\tTrain Loss: 1.479 | Train PPL: 4.389 \t\tVal. Loss: 3.743 |  Val. PPL: 42.210\n",
            "Epoch: 06\n"
          ]
        },
        {
          "name": "stderr",
          "output_type": "stream",
          "text": [
            "Train: 100%|██████████| 1569/1569 [03:27<00:00,  7.57it/s]\n",
            "Evaluate: 100%|██████████| 88/88 [00:03<00:00, 27.43it/s]\n"
          ]
        },
        {
          "name": "stdout",
          "output_type": "stream",
          "text": [
            "\tTrain Loss: 1.304 | Train PPL: 3.685 \t\tVal. Loss: 3.879 |  Val. PPL: 48.354\n",
            "Epoch: 07\n"
          ]
        },
        {
          "name": "stderr",
          "output_type": "stream",
          "text": [
            "Train: 100%|██████████| 1569/1569 [03:28<00:00,  7.54it/s]\n",
            "Evaluate: 100%|██████████| 88/88 [00:03<00:00, 27.08it/s]\n"
          ]
        },
        {
          "name": "stdout",
          "output_type": "stream",
          "text": [
            "\tTrain Loss: 1.181 | Train PPL: 3.257 \t\tVal. Loss: 4.099 |  Val. PPL: 60.275\n",
            "Epoch: 08\n"
          ]
        },
        {
          "name": "stderr",
          "output_type": "stream",
          "text": [
            "Train: 100%|██████████| 1569/1569 [03:26<00:00,  7.61it/s]\n",
            "Evaluate: 100%|██████████| 88/88 [00:03<00:00, 28.46it/s]"
          ]
        },
        {
          "name": "stdout",
          "output_type": "stream",
          "text": [
            "\tTrain Loss: 1.085 | Train PPL: 2.960 \t\tVal. Loss: 4.243 |  Val. PPL: 69.637\n",
            "Early stopping after epoch 8: no improvement for 5 epochs.\n"
          ]
        },
        {
          "name": "stderr",
          "output_type": "stream",
          "text": [
            "\n"
          ]
        }
      ],
      "source": [
        "N_EPOCHS = 10\n",
        "CLIP = 1\n",
        "PATIENCE = 5\n",
        "\n",
        "train_losses, val_losses = [], []\n",
        "\n",
        "best_loss = float('inf')\n",
        "early_stop_counter = 0\n",
        "best_epoch = 0\n",
        "\n",
        "for epoch in range(N_EPOCHS):\n",
        "    print(f'Epoch: {epoch+1:02}')\n",
        "\n",
        "    train_loss = train(model, train_loader, optimizer, criterion, CLIP)\n",
        "    valid_loss = evaluate(model, val_loader, criterion)\n",
        "    print(f'\\tTrain Loss: {train_loss:.3f} | Train PPL: {math.exp(train_loss):.3f}', end=' ')\n",
        "    print(f'\\t\\tVal. Loss: {valid_loss:.3f} |  Val. PPL: {math.exp(valid_loss):.3f}')\n",
        "\n",
        "    train_losses.append(train_loss), val_losses.append(valid_loss)\n",
        "\n",
        "    if valid_loss < best_loss:\n",
        "        best_loss, best_epoch = valid_loss, epoch\n",
        "        torch.save(model.state_dict(), 'model.pt')\n",
        "        early_stop_counter = 0\n",
        "    else:\n",
        "        early_stop_counter += 1\n",
        "        if early_stop_counter >= PATIENCE:\n",
        "            print(f'Early stopping after epoch {epoch+1}: no improvement for {PATIENCE} epochs.')\n",
        "            break\n",
        "\n",
        "if early_stop_counter < PATIENCE:\n",
        "    print(f'Best validation loss of {best_loss:.3f} at epoch {best_epoch+1}.')"
      ]
    },
    {
      "cell_type": "code",
      "execution_count": null,
      "metadata": {
        "colab": {
          "base_uri": "https://localhost:8080/",
          "height": 453
        },
        "execution": {
          "iopub.execute_input": "2023-10-22T17:08:41.930055Z",
          "iopub.status.busy": "2023-10-22T17:08:41.929336Z",
          "iopub.status.idle": "2023-10-22T17:08:42.269757Z",
          "shell.execute_reply": "2023-10-22T17:08:42.268749Z",
          "shell.execute_reply.started": "2023-10-22T17:08:41.930023Z"
        },
        "id": "d2UOnyL-2IgA",
        "outputId": "5ad0143b-5508-4490-dc36-bc5e98f66475"
      },
      "outputs": [
        {
          "data": {
            "image/png": "[encoded data removed]",
            "text/plain": [
              "<Figure size 640x480 with 1 Axes>"
            ]
          },
          "metadata": {},
          "output_type": "display_data"
        }
      ],
      "source": [
        "import matplotlib.pyplot as plt\n",
        "\n",
        "plt.style.use('ggplot')\n",
        "\n",
        "plt.plot(range(1, len(train_losses)+1), train_losses, label='Train Loss')\n",
        "plt.plot(range(1, len(val_losses)+1), val_losses, label='Validation Loss')\n",
        "plt.xlabel('Epoch')\n",
        "plt.ylabel('Loss')\n",
        "\n",
        "plt.scatter(best_epoch + 1, val_losses[best_epoch], color='red', marker='x', label='Early Stopping')\n",
        "plt.text(best_epoch + 1, val_losses[best_epoch] - 0.30, f'Best Epoch: {best_epoch + 1}',\n",
        "         color='red', fontsize=10, va='bottom', ha='center')\n",
        "plt.legend()\n",
        "plt.show()"
      ]
    },
    {
      "cell_type": "code",
      "execution_count": null,
      "metadata": {
        "colab": {
          "base_uri": "https://localhost:8080/"
        },
        "execution": {
          "iopub.execute_input": "2023-10-22T17:07:13.085186Z",
          "iopub.status.busy": "2023-10-22T17:07:13.084920Z",
          "iopub.status.idle": "2023-10-22T17:07:14.468506Z",
          "shell.execute_reply": "2023-10-22T17:07:14.467576Z",
          "shell.execute_reply.started": "2023-10-22T17:07:13.085162Z"
        },
        "id": "b_thezky2IgA",
        "outputId": "e3987d51-c8fd-4ba8-da8f-1fa919bf2eea",
        "pycharm": {
          "name": "#%%\n"
        }
      },
      "outputs": [
        {
          "name": "stderr",
          "output_type": "stream",
          "text": [
            "Evaluate: 100%|██████████| 88/88 [00:03<00:00, 27.01it/s]"
          ]
        },
        {
          "name": "stdout",
          "output_type": "stream",
          "text": [
            "\tTest Loss: 3.535 | Test PPL:  34.298\n"
          ]
        },
        {
          "name": "stderr",
          "output_type": "stream",
          "text": [
            "\n"
          ]
        }
      ],
      "source": [
        "model.load_state_dict(torch.load('model.pt'))\n",
        "test_loss = evaluate(model, test_loader, criterion)\n",
        "print(f'\\tTest Loss: {test_loss:.3f} | Test PPL: {math.exp(test_loss):7.3f}')"
      ]
    },
    {
      "cell_type": "markdown",
      "metadata": {
        "id": "ESWqSll32IgA",
        "pycharm": {
          "name": "#%% md\n"
        }
      },
      "source": [
        "## Translation Process"
      ]
    },
    {
      "cell_type": "code",
      "execution_count": 35,
      "metadata": {
        "execution": {
          "iopub.execute_input": "2023-10-22T17:07:14.470090Z",
          "iopub.status.busy": "2023-10-22T17:07:14.469667Z",
          "iopub.status.idle": "2023-10-22T17:07:14.475123Z",
          "shell.execute_reply": "2023-10-22T17:07:14.474245Z",
          "shell.execute_reply.started": "2023-10-22T17:07:14.470054Z"
        },
        "id": "YCqvy3KN2IgB",
        "pycharm": {
          "name": "#%%\n"
        }
      },
      "outputs": [],
      "source": [
        "source = \"السماء زرقاء\"\n",
        "input = preprocess(source, src_vocab)\n",
        "input = input[:,None].to(torch.int64).to(device)"
      ]
    },
    {
      "cell_type": "code",
      "execution_count": 36,
      "metadata": {
        "execution": {
          "iopub.execute_input": "2023-10-22T17:07:14.476370Z",
          "iopub.status.busy": "2023-10-22T17:07:14.476107Z",
          "iopub.status.idle": "2023-10-22T17:07:14.489669Z",
          "shell.execute_reply": "2023-10-22T17:07:14.488898Z",
          "shell.execute_reply.started": "2023-10-22T17:07:14.476346Z"
        },
        "id": "MCU41dvi2IgB",
        "pycharm": {
          "name": "#%%\n"
        }
      },
      "outputs": [],
      "source": [
        "#target = torch.zeros(len(source.split(' '))+2,1,).to(torch.int64)\n",
        "#target = torch.zeros(len(source.split(' ')) + 3, 1).to(torch.int64)  # Increase length slightly\n",
        "\n",
        "target_length = len(source.split()) + 3  # +3 to give some room for additional tokens (e.g., <eos>, <bos>)\n",
        "\n",
        "# Initialize the target tensor with the dynamically calculated length\n",
        "target = torch.zeros(target_length, 1).to(torch.int64)\n",
        "\n",
        "with torch.no_grad():\n",
        "    model.eval()\n",
        "    input = input.to(device)\n",
        "    target = target.to(device)\n",
        "    output = model(input, target, 0)\n",
        "    output_dim = output.shape[-1]\n",
        "    output = output[1:].view(-1, output_dim)"
      ]
    },
    {
      "cell_type": "code",
      "execution_count": 37,
      "metadata": {
        "execution": {
          "iopub.execute_input": "2023-10-22T17:07:14.491108Z",
          "iopub.status.busy": "2023-10-22T17:07:14.490776Z",
          "iopub.status.idle": "2023-10-22T17:07:14.500028Z",
          "shell.execute_reply": "2023-10-22T17:07:14.499125Z",
          "shell.execute_reply.started": "2023-10-22T17:07:14.491074Z"
        },
        "id": "Z6IHbqe62IgB",
        "pycharm": {
          "name": "#%%\n"
        }
      },
      "outputs": [],
      "source": [
        "prediction = []\n",
        "for i in output:\n",
        "    prediction.append(torch.argmax(i).item())\n",
        "tokens = trg_vocab.lookup_tokens(prediction)"
      ]
    },
    {
      "cell_type": "code",
      "execution_count": 38,
      "metadata": {
        "colab": {
          "base_uri": "https://localhost:8080/",
          "height": 35
        },
        "execution": {
          "iopub.execute_input": "2023-10-22T17:07:14.501364Z",
          "iopub.status.busy": "2023-10-22T17:07:14.501105Z",
          "iopub.status.idle": "2023-10-22T17:07:14.511484Z",
          "shell.execute_reply": "2023-10-22T17:07:14.510592Z",
          "shell.execute_reply.started": "2023-10-22T17:07:14.501340Z"
        },
        "id": "PxvXjmSP2IgB",
        "outputId": "23d72c33-0354-44ef-f4ff-cf150f40cb14",
        "pycharm": {
          "name": "#%%\n"
        }
      },
      "outputs": [
        {
          "data": {
            "text/plain": [
              "'roughly attacks prison pain'"
            ]
          },
          "execution_count": 38,
          "metadata": {},
          "output_type": "execute_result"
        }
      ],
      "source": [
        "from nltk.tokenize.treebank import TreebankWordDetokenizer\n",
        "TreebankWordDetokenizer().detokenize(tokens).replace('', \"\").replace('\"',\"\").strip()"
      ]
    },
    {
      "cell_type": "code",
      "execution_count": 39,
      "metadata": {
        "colab": {
          "base_uri": "https://localhost:8080/"
        },
        "id": "IBycNArf4kCM",
        "outputId": "d842811d-6761-491b-cacf-551d428bee26"
      },
      "outputs": [
        {
          "name": "stdout",
          "output_type": "stream",
          "text": [
            "Arabic: ماذا تفعل في حديقتي في منزلي؟\n",
            "Translated: roughly attacks stones fresh robbing account alcoholics anything\n",
            "\n",
            "Arabic: أين هو أقرب مطعم؟\n",
            "Translated: roughly attacks stones worst performance complaining\n",
            "\n",
            "Arabic: كيف حالك؟\n",
            "Translated: roughly attacks prison pain\n",
            "\n",
            "Arabic: أنا أحب البرمجة.\n",
            "Translated: roughly rained duties recommend between\n",
            "\n",
            "Arabic: الجو اليوم جميل.\n",
            "Translated: roughly attacks prison pain felt\n",
            "\n",
            "Arabic: أين يمكنني شراء تذاكر السينما؟\n",
            "Translated: roughly attacks alcohol pm trading encouraged answering\n",
            "\n",
            "Arabic: أنا ذاهب إلى السوق.\n",
            "Translated: roughly attacks stones kenji putting bullet\n",
            "\n",
            "Arabic: أحتاج إلى مساعدة.\n",
            "Translated: roughly silver spoilt suddenly polar\n",
            "\n",
            "Arabic: هل يمكنك مساعدتي في هذا المشروع؟\n",
            "Translated: jack bee then incident kind contract glass strangers\n",
            "\n",
            "Arabic: كم الساعة الآن؟\n",
            "Translated: roughly jellyfish size part intention\n",
            "\n",
            "Arabic: أريد كوب من القهوة.\n",
            "Translated: roughly jellyfish solve potable exclaimed theft\n",
            "\n",
            "Arabic: هل يمكنك أن تعطيني الاتجاهات؟\n",
            "Translated: roughly attacks stones pretend apologized textbooks city\n",
            "\n",
            "Arabic: أنا أتعلم البرمجة.\n",
            "Translated: roughly attacks alcohol studies christians\n",
            "\n",
            "Arabic: الطعام لذيذ هنا.\n",
            "Translated: roughly jellyfish putting bullet ticket\n",
            "\n",
            "Arabic: هل تعرف أين تقع المكتبة؟\n",
            "Translated: roughly attacks stones worst performance complaining shy\n",
            "\n",
            "Arabic: أحتاج إلى التحدث مع المدير.\n",
            "Translated: roughly attacks alcohol aunt ill thank wondered\n",
            "\n",
            "Arabic: كيف أصل إلى المطار؟\n",
            "Translated: roughly attacks unconscious figures hussein bear\n",
            "\n",
            "Arabic: هل يمكنني دفع الفاتورة؟\n",
            "Translated: roughly attacks al dogs unpredictable conscience\n",
            "\n",
            "Arabic: أريد شراء هدية لصديقي.\n",
            "Translated: roughly attacks prison bathroom teaches georgian\n",
            "\n",
            "Arabic: أين يقع الفندق؟\n",
            "Translated: roughly attacks stones belief weapons\n",
            "\n"
          ]
        }
      ],
      "source": [
        "# List of 20 Arabic sentences for testing\n",
        "arabic_sentences = [\n",
        "    \"ماذا تفعل في حديقتي في منزلي؟\",  # What are you doing in my garden in my house?\n",
        "    \"أين هو أقرب مطعم؟\",  # Where is the nearest restaurant?\n",
        "    \"كيف حالك؟\",  # How are you?\n",
        "    \"أنا أحب البرمجة.\",  # I love programming.\n",
        "    \"الجو اليوم جميل.\",  # The weather is nice today.\n",
        "    \"أين يمكنني شراء تذاكر السينما؟\",  # Where can I buy movie tickets?\n",
        "    \"أنا ذاهب إلى السوق.\",  # I am going to the market.\n",
        "    \"أحتاج إلى مساعدة.\",  # I need help.\n",
        "    \"هل يمكنك مساعدتي في هذا المشروع؟\",  # Can you help me with this project?\n",
        "    \"كم الساعة الآن؟\",  # What time is it now?\n",
        "    \"أريد كوب من القهوة.\",  # I want a cup of coffee.\n",
        "    \"هل يمكنك أن تعطيني الاتجاهات؟\",  # Can you give me directions?\n",
        "    \"أنا أتعلم البرمجة.\",  # I am learning programming.\n",
        "    \"الطعام لذيذ هنا.\",  # The food is delicious here.\n",
        "    \"هل تعرف أين تقع المكتبة؟\",  # Do you know where the library is?\n",
        "    \"أحتاج إلى التحدث مع المدير.\",  # I need to speak with the manager.\n",
        "    \"كيف أصل إلى المطار؟\",  # How do I get to the airport?\n",
        "    \"هل يمكنني دفع الفاتورة؟\",  # Can I pay the bill?\n",
        "    \"أريد شراء هدية لصديقي.\",  # I want to buy a gift for my friend.\n",
        "    \"أين يقع الفندق؟\",  # Where is the hotel?\n",
        "]\n",
        "\n",
        "# Loop through each Arabic sentence\n",
        "for sentence in arabic_sentences:\n",
        "    # Preprocess the Arabic sentence\n",
        "    input = preprocess(sentence, src_vocab)\n",
        "    input = input[:, None].to(torch.int64).to(device)\n",
        "\n",
        "    target_length = len(sentence.split()) + 3  # +3 for additional tokens\n",
        "    target = torch.zeros(target_length, 1).to(torch.int64)\n",
        "\n",
        "    # Model evaluation\n",
        "    with torch.no_grad():\n",
        "        model.eval()\n",
        "        input = input.to(device)\n",
        "        target = target.to(device)\n",
        "        output = model(input, target, 0)\n",
        "        output_dim = output.shape[-1]\n",
        "        output = output[1:].view(-1, output_dim)\n",
        "\n",
        "    # Decoding the output\n",
        "    prediction = []\n",
        "    for i in output:\n",
        "        prediction.append(torch.argmax(i).item())\n",
        "    tokens = trg_vocab.lookup_tokens(prediction)\n",
        "\n",
        "    # Detokenizing the tokens to form the translated sentence\n",
        "    translated_sentence = TreebankWordDetokenizer().detokenize(tokens).replace('', \"\").replace('\"', \"\").strip()\n",
        "\n",
        "    # Print the original Arabic sentence and its translation\n",
        "    print(f\"Arabic: {sentence}\")\n",
        "    print(f\"Translated: {translated_sentence}\\n\")\n"
      ]
    }
  ],
  "metadata": {
    "accelerator": "GPU",
    "colab": {
      "gpuType": "T4",
      "provenance": []
    },
    "kernelspec": {
      "display_name": "base",
      "language": "python",
      "name": "python3"
    },
    "language_info": {
      "codemirror_mode": {
        "name": "ipython",
        "version": 3
      },
      "file_extension": ".py",
      "mimetype": "text/x-python",
      "name": "python",
      "nbconvert_exporter": "python",
      "pygments_lexer": "ipython3",
      "version": "3.12.7"
    }
  },
  "nbformat": 4,
  "nbformat_minor": 0
}
